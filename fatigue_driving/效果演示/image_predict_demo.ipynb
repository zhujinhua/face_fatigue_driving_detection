{
 "cells": [
  {
   "cell_type": "code",
   "execution_count": 1,
   "id": "f79d295a",
   "metadata": {},
   "outputs": [],
   "source": [
    "# 引入必要的库和包\n",
    "import cv2\n",
    "from ultralytics import YOLO\n",
    "import os\n",
    "os.environ[\"KMP_DUPLICATE_LIB_OK\"]=\"TRUE\""
   ]
  },
  {
   "cell_type": "code",
   "execution_count": 2,
   "id": "7e22508b",
   "metadata": {},
   "outputs": [],
   "source": [
    "# 加载模型\n",
    "model = YOLO(model=\"best.pt\")"
   ]
  },
  {
   "cell_type": "code",
   "execution_count": 3,
   "id": "ea58be26",
   "metadata": {},
   "outputs": [
    {
     "name": "stdout",
     "output_type": "stream",
     "text": [
      "\n",
      "image 1/1 d:\\AI50\\\\\\1.0\\test.jpeg: 320x320 1 open_mouth, 53.8ms\n",
      "Speed: 2.5ms preprocess, 53.8ms inference, 0.0ms postprocess per image at shape (1, 3, 320, 320)\n"
     ]
    }
   ],
   "source": [
    "# 图像\n",
    "results = model(source=\"test.jpeg\")"
   ]
  },
  {
   "cell_type": "code",
   "execution_count": 4,
   "id": "fe7a1337",
   "metadata": {},
   "outputs": [],
   "source": [
    "result = results[0]"
   ]
  },
  {
   "cell_type": "code",
   "execution_count": 5,
   "id": "35b82256",
   "metadata": {},
   "outputs": [],
   "source": [
    "img = result.plot()"
   ]
  },
  {
   "cell_type": "code",
   "execution_count": 6,
   "id": "2d390903",
   "metadata": {},
   "outputs": [],
   "source": [
    "from matplotlib import pyplot as plt"
   ]
  },
  {
   "cell_type": "code",
   "execution_count": 1,
   "id": "f033fd7e",
   "metadata": {},
   "outputs": [
    {
     "ename": "NameError",
     "evalue": "name 'plt' is not defined",
     "output_type": "error",
     "traceback": [
      "\u001b[1;31m---------------------------------------------------------------------------\u001b[0m",
      "\u001b[1;31mNameError\u001b[0m                                 Traceback (most recent call last)",
      "Cell \u001b[1;32mIn[1], line 1\u001b[0m\n\u001b[1;32m----> 1\u001b[0m plt\u001b[38;5;241m.\u001b[39mimshow(X\u001b[38;5;241m=\u001b[39mimg[:, :, ::\u001b[38;5;241m-\u001b[39m\u001b[38;5;241m1\u001b[39m])\n",
      "\u001b[1;31mNameError\u001b[0m: name 'plt' is not defined"
     ]
    }
   ],
   "source": [
    "plt.imshow(X=img[:, :, ::-1])"
   ]
  },
  {
   "cell_type": "code",
   "execution_count": 3,
   "id": "afc26a03",
   "metadata": {},
   "outputs": [
    {
     "name": "stdout",
     "output_type": "stream",
     "text": [
      "Requirement already satisfied: dill in d:\\users\\lenovo\\anaconda3\\lib\\site-packages (0.3.7)\n"
     ]
    }
   ],
   "source": [
    "! pip install dill"
   ]
  },
  {
   "cell_type": "code",
   "execution_count": null,
   "id": "2d0e3cd6",
   "metadata": {},
   "outputs": [],
   "source": []
  }
 ],
 "metadata": {
  "kernelspec": {
   "display_name": "Python 3 (ipykernel)",
   "language": "python",
   "name": "python3"
  },
  "language_info": {
   "codemirror_mode": {
    "name": "ipython",
    "version": 3
   },
   "file_extension": ".py",
   "mimetype": "text/x-python",
   "name": "python",
   "nbconvert_exporter": "python",
   "pygments_lexer": "ipython3",
   "version": "3.11.7"
  }
 },
 "nbformat": 4,
 "nbformat_minor": 5
}

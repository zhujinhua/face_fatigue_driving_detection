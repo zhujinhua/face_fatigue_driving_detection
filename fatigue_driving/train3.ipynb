{
 "cells": [
  {
   "cell_type": "code",
   "execution_count": 1,
   "id": "de29432b-6811-4f30-b16f-8b145fe81a00",
   "metadata": {
    "scrolled": true
   },
   "source": [
    "import os\n",
    "if not os.path.exists('dataset'):\n",
    "    !unzip /gemini/data-1/Fatigue.zip"
   ],
   "outputs": []
  },
  {
   "cell_type": "code",
   "execution_count": 2,
   "id": "7a79684d-3f8f-454b-bf35-36a1f0162b2e",
   "metadata": {
    "scrolled": true
   },
   "source": [
    "def rename_folder(dataset_path, old_name, new_name):\n",
    "    jpeg_images_folder = os.path.join(dataset_path, old_name)\n",
    "    if os.path.exists(jpeg_images_folder):\n",
    "        images_folder = os.path.join(dataset_path, new_name)\n",
    "        os.rename(jpeg_images_folder, images_folder)\n",
    "        print(f\"Folder '{old_name}' has been renamed to '{new_name}'.\")\n",
    "    else:\n",
    "        print(f\"Folder '{old_name}' does not exist.\")\n",
    "\n",
    "dataset_path = 'dataset/'\n",
    "rename_folder(dataset_path, 'JPEGImages', 'images')"
   ],
   "outputs": []
  },
  {
   "cell_type": "code",
   "execution_count": 3,
   "id": "3b007fca-de8d-41ca-806e-bf4227c191ab",
   "metadata": {},
   "source": [
    "from ultralytics import YOLO\n",
    "from glob import glob\n",
    "from sklearn.model_selection import train_test_split\n",
    "import yaml\n",
    "os.environ[\"KMP_DUPLICATE_LIB_OK\"]=\"TRUE\""
   ],
   "outputs": []
  },
  {
   "cell_type": "code",
   "execution_count": 4,
   "id": "f75f2761-8bf2-49de-982b-34b8290656be",
   "metadata": {},
   "source": [
    "# 获取所有图像文件和标注文件路径\n",
    "image_files = glob(os.path.join(dataset_path, 'images', '*.jpg'))\n",
    "annotation_files = glob(os.path.join(dataset_path, 'Annotations', '*.xml'))\n",
    "print(len(image_files))"
   ],
   "outputs": []
  },
  {
   "cell_type": "code",
   "execution_count": 5,
   "id": "cc26a9f5-f069-447d-9de9-5ab8faee3a64",
   "metadata": {},
   "source": [
    "# 处理没有标签的图片\n",
    "for pic in image_files:\n",
    "    anno_name = (pic.split('.')[0] + '.xml').replace('images','Annotations')\n",
    "    if anno_name not in annotation_files:\n",
    "        os.remove(os.path.join(pic))"
   ],
   "outputs": []
  },
  {
   "cell_type": "code",
   "execution_count": 6,
   "id": "6b2bb9f8-868a-45a8-8758-9fac00dc45d5",
   "metadata": {},
   "source": [
    "# 重置所有图像文件和标注文件路径并查看处理后的数据集的数量\n",
    "image_files = glob(os.path.join(dataset_path, 'images', '*.jpg'))\n",
    "annotation_files = glob(os.path.join(dataset_path, 'Annotations', '*.xml'))\n",
    "print(len(image_files),len(annotation_files))"
   ],
   "outputs": []
  },
  {
   "cell_type": "code",
   "execution_count": 7,
   "id": "d8aa3e64-2ade-40c0-a589-2910a1efe9b2",
   "metadata": {},
   "source": [
    "# 转换VOC格式数据为YOLO格式\n",
    "import xml.etree.ElementTree as ET\n",
    "\n",
    "classes = ['closed_eye', 'open_eye','closed_mouth','open_mouth']\n",
    "# 初始化每个类别的计数\n",
    "nums = [0] * len(classes)\n",
    "def convert(size, box):\n",
    "    dw = 1. / size[0]\n",
    "    dh = 1. / size[1]\n",
    "    x = (box[0] + box[1]) / 2.0 - 1\n",
    "    y = (box[2] + box[3]) / 2.0 - 1\n",
    "    w = box[1] - box[0]\n",
    "    h = box[3] - box[2]\n",
    "    x = x * dw\n",
    "    w = w * dw\n",
    "    y = y * dh\n",
    "    h = h * dh\n",
    "    return (x, y, w, h)\n",
    "\n",
    "def convert_annotation(image_id):\n",
    "    in_file = open(dataset_path+'Annotations/%s.xml' % (image_id))\n",
    "    out_file = open(dataset_path+'labels/%s.txt' % (image_id), 'w')\n",
    "    tree = ET.parse(in_file)\n",
    "    root = tree.getroot()\n",
    "    size = root.find('size')\n",
    "    w = int(size.find('width').text)\n",
    "    h = int(size.find('height').text)\n",
    "    for obj in root.iter('object'):\n",
    "        difficult = obj.find('difficult').text\n",
    "        cls = obj.find('name').text\n",
    "        if cls not in classes or int(difficult) == 1:\n",
    "            continue\n",
    "        cls_id = classes.index(cls)\n",
    "        nums[cls_id] += 1\n",
    "        xmlbox = obj.find('bndbox')\n",
    "        b = (float(xmlbox.find('xmin').text), float(xmlbox.find('xmax').text),\n",
    "             float(xmlbox.find('ymin').text), float(xmlbox.find('ymax').text))\n",
    "        bb = convert((w, h), b)\n",
    "        out_file.write(str(cls_id) + \" \" + \" \".join([str(a) for a in bb]) + '\\n')\n",
    "\n",
    "if not os.path.exists(dataset_path+'labels/'):\n",
    "    os.makedirs(dataset_path+'labels/')\n",
    "for filename in annotation_files:\n",
    "    if filename.endswith('.xml'):\n",
    "        # file_path = os.path.join(path, filename)\n",
    "        image_id = os.path.splitext(os.path.basename(filename))[0]\n",
    "        convert_annotation(image_id)"
   ],
   "outputs": []
  },
  {
   "cell_type": "code",
   "execution_count": 8,
   "id": "5f6ab169",
   "metadata": {},
   "source": [
    "# 数据集分布\n",
    "import matplotlib.pyplot as plt\n",
    "print(classes,nums)\n",
    "# 数据集标签和对应的数量\n",
    "sizes = nums\n",
    "\n",
    "# 生成饼状图\n",
    "plt.figure(figsize=(8, 8))\n",
    "plt.pie(sizes, labels=classes, autopct='%1.1f%%', startangle=140)\n",
    "plt.axis('equal')  # 使饼图为圆形\n",
    "plt.title('数据集分布')\n",
    "plt.show()"
   ],
   "outputs": []
  },
  {
   "cell_type": "code",
   "execution_count": 9,
   "id": "3cb35d18-9f24-48b4-9080-7512ed98e7b2",
   "metadata": {},
   "source": [
    "# 进行8:2分割\n",
    "labels_files = glob(os.path.join(dataset_path, 'labels', '*.txt'))\n",
    "train_images, val_images, train_labels, val_labels = train_test_split(\n",
    "    image_files, labels_files, test_size=0.2, random_state=42)"
   ],
   "outputs": []
  },
  {
   "cell_type": "code",
   "execution_count": 10,
   "id": "f57740af-f0a1-4ac2-bb28-499c1ebcdfd8",
   "metadata": {},
   "source": [
    "# 将文件路径写入文本文件\n",
    "dataset_path = 'datasets/'\n",
    "\n",
    "if not os.path.exists(dataset_path+'paths/'):\n",
    "    os.makedirs(dataset_path+'paths/')\n",
    "def write_file_list(file_list, filename):\n",
    "    filename = os.path.join(dataset_path,'paths', filename)\n",
    "    with open(filename, 'w') as f:\n",
    "        for file in file_list:\n",
    "            f.write(f\"{file}\\n\")\n",
    "\n",
    "write_file_list(train_images, 'train_images.txt')\n",
    "write_file_list(val_images, 'val_images.txt')\n",
    "write_file_list(train_labels, 'train_labels.txt')\n",
    "write_file_list(val_labels, 'val_labels.txt')"
   ],
   "outputs": []
  },
  {
   "cell_type": "code",
   "execution_count": 11,
   "id": "c950005a-bbc4-4c91-b9ce-bc1daac27d46",
   "metadata": {},
   "source": [
    "# 生成my_det_data.yaml文件\n",
    "data = {\n",
    "    'train': 'paths/train_images.txt',\n",
    "    'val': 'paths/val_images.txt',\n",
    "    'nc': 4,  \n",
    "    'names': ['closed_eye', 'open_eye','closed_mouth','open_mouth']\n",
    "}\n",
    "\n",
    "with open('Fatigue_det_data.yaml', 'w') as outfile:\n",
    "    yaml.dump(data, outfile, default_flow_style=False)\n"
   ],
   "outputs": []
  },
  {
   "cell_type": "code",
   "execution_count": 12,
   "id": "067d4ca5-3370-4fc7-bd26-00445a75f6f6",
   "metadata": {},
   "source": [
    "# Load a model\n",
    "model = YOLO(\"yolov8n.yaml\") "
   ],
   "outputs": []
  },
  {
   "cell_type": "code",
   "execution_count": 13,
   "id": "f0195aee-83e1-4b0d-b383-6466f966b44f",
   "metadata": {},
   "source": [
    "# 优化参数方案二：增加数据增强、轮数、batch\n",
    "results = model.train(data=\"Fatigue_det_data.yaml\", \n",
    "                      epochs=30, \n",
    "                      imgsz=640, \n",
    "                      batch=16,\n",
    "                      workers=2,\n",
    "                      mosaic=0.7,  # 增加mosaic数据增强\n",
    "                      mixup=0.3,   # 增加mixup数据增强\n",
    "                      copy_paste=0.2)  # 增加copy-paste数据增强"
   ],
   "outputs": []
  },
  {
   "cell_type": "code",
   "execution_count": 15,
   "id": "b4af186c-6ea0-43fc-8317-6932ccfd5bb4",
   "metadata": {},
   "source": [
    "# 如果要导出结果，可压缩实际生成的trrain文件夹，导出压缩包\n",
    "! zip -r /gemini/code/runs/detect/train3.zip /gemini/code/runs/detect/train3"
   ],
   "outputs": []
  },
  {
   "cell_type": "code",
   "execution_count": null,
   "id": "4578bdc9-73ea-48e3-97f1-e74931079bc2",
   "metadata": {},
   "source": [],
   "outputs": []
  }
 ],
 "metadata": {
  "kernelspec": {
   "display_name": "Python 3 (ipykernel)",
   "language": "python",
   "name": "python3"
  },
  "language_info": {
   "codemirror_mode": {
    "name": "ipython",
    "version": 3
   },
   "file_extension": ".py",
   "mimetype": "text/x-python",
   "name": "python",
   "nbconvert_exporter": "python",
   "pygments_lexer": "ipython3",
   "version": "3.11.8"
  }
 },
 "nbformat": 4,
 "nbformat_minor": 5
}
